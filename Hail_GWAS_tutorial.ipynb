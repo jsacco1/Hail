{
 "cells": [
  {
   "cell_type": "code",
   "execution_count": 1,
   "metadata": {},
   "outputs": [],
   "source": [
    "%matplotlib inline"
   ]
  },
  {
   "cell_type": "code",
   "execution_count": 2,
   "metadata": {},
   "outputs": [],
   "source": [
    "import os\n",
    "from pyspark import SparkConf, SparkContext\n",
    "from hail import *\n",
    "import matplotlib.pyplot as plt\n",
    "import matplotlib.patches as mpatches\n",
    "import numpy as np\n",
    "from collections import Counter\n",
    "from math import log, isnan\n",
    "from pprint import pprint"
   ]
  },
  {
   "cell_type": "code",
   "execution_count": 17,
   "metadata": {},
   "outputs": [
    {
     "name": "stdout",
     "output_type": "stream",
     "text": [
      "INFO:sparkhpc.sparkjob:Submitted batch job 7302\n",
      "\n",
      "INFO:sparkhpc.sparkjob:Submitted cluster 0\n"
     ]
    }
   ],
   "source": [
    "!sparkcluster start \\\n",
    "--walltime ##:##  \\\n",
    "--queue NAME \\\n",
    "--memory-per-core #### \\\n",
    "--cores-per-executor ## \\\n",
    "##"
   ]
  },
  {
   "cell_type": "code",
   "execution_count": 6,
   "metadata": {},
   "outputs": [],
   "source": [
    "os.environ['SPARK_MASTER_URL'] = 'PATH'"
   ]
  },
  {
   "cell_type": "code",
   "execution_count": 9,
   "metadata": {},
   "outputs": [],
   "source": [
    "sc = SparkContext(conf=SparkConf().setAll([\n",
    "   (u'spark.sql.files.maxPartitionBytes', u'#########'),\n",
    "   (u'spark.sql.files.openCostInBytes', u'#########'),\n",
    "   (u'spark.app.name', u'HAIL'),\n",
    "   (u'spark.master', os.environ['SPARK_MASTER_URL']),\n",
    "   (u'spark.submit.deployMode', '####'),\n",
    "   (u'spark.driver.maxResultSize', '##'),\n",
    "   (u'spark.executor.instances', '##')\n",
    "\n",
    "    ]))"
   ]
  },
  {
   "cell_type": "code",
   "execution_count": 3,
   "metadata": {},
   "outputs": [
    {
     "name": "stderr",
     "output_type": "stream",
     "text": [
      "Running on Apache Spark version 2.1.1\n",
      "SparkUI available at http://172.26.8.132:4041\n",
      "Welcome to\n",
      "     __  __     <>__\n",
      "    / /_/ /__  __/ /\n",
      "   / __  / _ `/ / /\n",
      "  /_/ /_/\\_,_/_/_/   version 0.1-5306854\n"
     ]
    }
   ],
   "source": [
    "#start the Hail context\n",
    "hc = HailContext()"
   ]
  },
  {
   "cell_type": "code",
   "execution_count": 4,
   "metadata": {},
   "outputs": [],
   "source": [
    "#load data from disk\n",
    "vds = hc.read('/PATH/TO/gnomAD.vds')"
   ]
  },
  {
   "cell_type": "code",
   "execution_count": 5,
   "metadata": {},
   "outputs": [],
   "source": [
    "vtable = vds.variants_table()"
   ]
  },
  {
   "cell_type": "code",
   "execution_count": 7,
   "metadata": {
    "scrolled": false
   },
   "outputs": [
    {
     "name": "stdout",
     "output_type": "stream",
     "text": [
      "Struct{\n",
      "     v: Variant,\n",
      "     va: Struct{\n",
      "         rsid: String,\n",
      "         qual: Double,\n",
      "         filters: Set[String],\n",
      "         info: Struct{\n",
      "             AC: Array[Int],\n",
      "             AF: Array[Double],\n",
      "             AN: Int,\n",
      "             BaseQRankSum: Double,\n",
      "             ClippingRankSum: Double,\n",
      "             DB: Boolean,\n",
      "             DP: Int,\n",
      "             FS: Double,\n",
      "             InbreedingCoeff: Double,\n",
      "             MQ: Double,\n",
      "             MQRankSum: Double,\n",
      "             QD: Double,\n",
      "             ReadPosRankSum: Double,\n",
      "             SOR: Double,\n",
      "             VQSLOD: Double,\n",
      "             VQSR_culprit: String,\n",
      "             VQSR_NEGATIVE_TRAIN_SITE: Boolean,\n",
      "             VQSR_POSITIVE_TRAIN_SITE: Boolean,\n",
      "             GQ_HIST_ALT: Array[String],\n",
      "             DP_HIST_ALT: Array[String],\n",
      "             AB_HIST_ALT: Array[String],\n",
      "             GQ_HIST_ALL: String,\n",
      "             DP_HIST_ALL: String,\n",
      "             AB_HIST_ALL: String,\n",
      "             AC_AFR: Array[Int],\n",
      "             AC_AMR: Array[Int],\n",
      "             AC_ASJ: Array[Int],\n",
      "             AC_EAS: Array[Int],\n",
      "             AC_FIN: Array[Int],\n",
      "             AC_NFE: Array[Int],\n",
      "             AC_OTH: Array[Int],\n",
      "             AC_SAS: Array[Int],\n",
      "             AC_Male: Array[Int],\n",
      "             AC_Female: Array[Int],\n",
      "             AN_AFR: Int,\n",
      "             AN_AMR: Int,\n",
      "             AN_ASJ: Int,\n",
      "             AN_EAS: Int,\n",
      "             AN_FIN: Int,\n",
      "             AN_NFE: Int,\n",
      "             AN_OTH: Int,\n",
      "             AN_SAS: Int,\n",
      "             AN_Male: Int,\n",
      "             AN_Female: Int,\n",
      "             AF_AFR: Array[Double],\n",
      "             AF_AMR: Array[Double],\n",
      "             AF_ASJ: Array[Double],\n",
      "             AF_EAS: Array[Double],\n",
      "             AF_FIN: Array[Double],\n",
      "             AF_NFE: Array[Double],\n",
      "             AF_OTH: Array[Double],\n",
      "             AF_SAS: Array[Double],\n",
      "             AF_Male: Array[Double],\n",
      "             AF_Female: Array[Double],\n",
      "             GC_AFR: Array[Int],\n",
      "             GC_AMR: Array[Int],\n",
      "             GC_ASJ: Array[Int],\n",
      "             GC_EAS: Array[Int],\n",
      "             GC_FIN: Array[Int],\n",
      "             GC_NFE: Array[Int],\n",
      "             GC_OTH: Array[Int],\n",
      "             GC_SAS: Array[Int],\n",
      "             GC_Male: Array[Int],\n",
      "             GC_Female: Array[Int],\n",
      "             AC_raw: Array[Int],\n",
      "             AN_raw: Int,\n",
      "             AF_raw: Array[Double],\n",
      "             GC_raw: Array[Int],\n",
      "             GC: Array[Int],\n",
      "             Hom_AFR: Array[Int],\n",
      "             Hom_AMR: Array[Int],\n",
      "             Hom_ASJ: Array[Int],\n",
      "             Hom_EAS: Array[Int],\n",
      "             Hom_FIN: Array[Int],\n",
      "             Hom_NFE: Array[Int],\n",
      "             Hom_OTH: Array[Int],\n",
      "             Hom_SAS: Array[Int],\n",
      "             Hom_Male: Array[Int],\n",
      "             Hom_Female: Array[Int],\n",
      "             Hom_raw: Array[Int],\n",
      "             Hom: Array[Int],\n",
      "             STAR_AC: Int,\n",
      "             STAR_AC_raw: Int,\n",
      "             STAR_Hom: Int,\n",
      "             POPMAX: Array[String],\n",
      "             AC_POPMAX: Array[Int],\n",
      "             AN_POPMAX: Array[Int],\n",
      "             AF_POPMAX: Array[Double],\n",
      "             DP_MEDIAN: Array[Int],\n",
      "             DREF_MEDIAN: Array[Double],\n",
      "             GQ_MEDIAN: Array[Int],\n",
      "             AB_MEDIAN: Array[Double],\n",
      "             AS_RF: Array[Double],\n",
      "             AS_FilterStatus: Array[Set[String]],\n",
      "             AS_RF_POSITIVE_TRAIN: Array[Int],\n",
      "             AS_RF_NEGATIVE_TRAIN: Array[Int],\n",
      "             CSQ: Array[String],\n",
      "             AN_FIN_Male: Int,\n",
      "             AN_EAS_Female: Int,\n",
      "             AN_NFE_Female: Int,\n",
      "             AC_AFR_Male: Array[Int],\n",
      "             AN_AMR_Female: Int,\n",
      "             AF_AMR_Male: Array[Double],\n",
      "             Hemi_NFE: Array[Int],\n",
      "             Hemi_AFR: Array[Int],\n",
      "             AC_ASJ_Female: Array[Int],\n",
      "             AF_FIN_Female: Array[Double],\n",
      "             AN_ASJ_Male: Int,\n",
      "             AC_OTH_Female: Array[Int],\n",
      "             GC_OTH_Male: Array[Int],\n",
      "             GC_FIN_Male: Array[Int],\n",
      "             AC_NFE_Female: Array[Int],\n",
      "             AC_EAS_Male: Array[Int],\n",
      "             AC_OTH_Male: Array[Int],\n",
      "             GC_SAS_Male: Array[Int],\n",
      "             Hemi_AMR: Array[Int],\n",
      "             AC_NFE_Male: Array[Int],\n",
      "             Hemi: Array[Int],\n",
      "             AN_FIN_Female: Int,\n",
      "             GC_EAS_Male: Array[Int],\n",
      "             GC_ASJ_Female: Array[Int],\n",
      "             GC_SAS_Female: Array[Int],\n",
      "             GC_ASJ_Male: Array[Int],\n",
      "             Hemi_SAS: Array[Int],\n",
      "             AN_ASJ_Female: Int,\n",
      "             AF_FIN_Male: Array[Double],\n",
      "             AN_OTH_Male: Int,\n",
      "             AF_AFR_Male: Array[Double],\n",
      "             STAR_Hemi: Int,\n",
      "             AF_SAS_Male: Array[Double],\n",
      "             Hemi_ASJ: Array[Int],\n",
      "             AN_SAS_Female: Int,\n",
      "             AN_AFR_Female: Int,\n",
      "             Hemi_raw: Array[Int],\n",
      "             AF_OTH_Male: Array[Double],\n",
      "             AC_SAS_Female: Array[Int],\n",
      "             AF_NFE_Female: Array[Double],\n",
      "             AF_EAS_Female: Array[Double],\n",
      "             AN_OTH_Female: Int,\n",
      "             AF_EAS_Male: Array[Double],\n",
      "             AF_SAS_Female: Array[Double],\n",
      "             GC_AFR_Female: Array[Int],\n",
      "             AF_AFR_Female: Array[Double],\n",
      "             AC_FIN_Female: Array[Int],\n",
      "             Hemi_OTH: Array[Int],\n",
      "             GC_AMR_Male: Array[Int],\n",
      "             AC_AFR_Female: Array[Int],\n",
      "             GC_NFE_Male: Array[Int],\n",
      "             AF_AMR_Female: Array[Double],\n",
      "             GC_NFE_Female: Array[Int],\n",
      "             AN_AFR_Male: Int,\n",
      "             AN_NFE_Male: Int,\n",
      "             AC_AMR_Male: Array[Int],\n",
      "             GC_AMR_Female: Array[Int],\n",
      "             AC_SAS_Male: Array[Int],\n",
      "             AF_ASJ_Male: Array[Double],\n",
      "             GC_FIN_Female: Array[Int],\n",
      "             AC_EAS_Female: Array[Int],\n",
      "             AC_AMR_Female: Array[Int],\n",
      "             Hemi_FIN: Array[Int],\n",
      "             AC_FIN_Male: Array[Int],\n",
      "             GC_EAS_Female: Array[Int],\n",
      "             AF_ASJ_Female: Array[Double],\n",
      "             AF_OTH_Female: Array[Double],\n",
      "             GC_AFR_Male: Array[Int],\n",
      "             AN_SAS_Male: Int,\n",
      "             AF_NFE_Male: Array[Double],\n",
      "             AN_EAS_Male: Int,\n",
      "             AC_ASJ_Male: Array[Int],\n",
      "             Hemi_EAS: Array[Int],\n",
      "             AN_AMR_Male: Int,\n",
      "             GC_OTH_Female: Array[Int],\n",
      "             segdup: Boolean,\n",
      "             lcr: Boolean\n",
      "         },\n",
      "         vep: Struct{\n",
      "             assembly_name: String,\n",
      "             allele_string: String,\n",
      "             ancestral: String,\n",
      "             colocated_variants: Array[Struct{\n",
      "                 aa_allele: String,\n",
      "                 aa_maf: Double,\n",
      "                 afr_allele: String,\n",
      "                 afr_maf: Double,\n",
      "                 allele_string: String,\n",
      "                 amr_allele: String,\n",
      "                 amr_maf: Double,\n",
      "                 clin_sig: Array[String],\n",
      "                 end: Int,\n",
      "                 eas_allele: String,\n",
      "                 eas_maf: Double,\n",
      "                 ea_allele: String,\n",
      "                 ea_maf: Double,\n",
      "                 eur_allele: String,\n",
      "                 eur_maf: Double,\n",
      "                 exac_adj_allele: String,\n",
      "                 exac_adj_maf: Double,\n",
      "                 exac_allele: String,\n",
      "                 exac_afr_allele: String,\n",
      "                 exac_afr_maf: Double,\n",
      "                 exac_amr_allele: String,\n",
      "                 exac_amr_maf: Double,\n",
      "                 exac_eas_allele: String,\n",
      "                 exac_eas_maf: Double,\n",
      "                 exac_fin_allele: String,\n",
      "                 exac_fin_maf: Double,\n",
      "                 exac_maf: Double,\n",
      "                 exac_nfe_allele: String,\n",
      "                 exac_nfe_maf: Double,\n",
      "                 exac_oth_allele: String,\n",
      "                 exac_oth_maf: Double,\n",
      "                 exac_sas_allele: String,\n",
      "                 exac_sas_maf: Double,\n",
      "                 id: String,\n",
      "                 minor_allele: String,\n",
      "                 minor_allele_freq: Double,\n",
      "                 phenotype_or_disease: Int,\n",
      "                 pubmed: Array[Int],\n",
      "                 sas_allele: String,\n",
      "                 sas_maf: Double,\n",
      "                 somatic: Int,\n",
      "                 start: Int,\n",
      "                 strand: Int\n",
      "             }],\n",
      "             context: String,\n",
      "             end: Int,\n",
      "             id: String,\n",
      "             input: String,\n",
      "             intergenic_consequences: Array[Struct{\n",
      "                 allele_num: Int,\n",
      "                 consequence_terms: Array[String],\n",
      "                 impact: String,\n",
      "                 minimised: Int,\n",
      "                 variant_allele: String\n",
      "             }],\n",
      "             most_severe_consequence: String,\n",
      "             motif_feature_consequences: Array[Struct{\n",
      "                 allele_num: Int,\n",
      "                 consequence_terms: Array[String],\n",
      "                 high_inf_pos: String,\n",
      "                 impact: String,\n",
      "                 minimised: Int,\n",
      "                 motif_feature_id: String,\n",
      "                 motif_name: String,\n",
      "                 motif_pos: Int,\n",
      "                 motif_score_change: Double,\n",
      "                 strand: Int,\n",
      "                 variant_allele: String\n",
      "             }],\n",
      "             regulatory_feature_consequences: Array[Struct{\n",
      "                 allele_num: Int,\n",
      "                 biotype: String,\n",
      "                 consequence_terms: Array[String],\n",
      "                 impact: String,\n",
      "                 minimised: Int,\n",
      "                 regulatory_feature_id: String,\n",
      "                 variant_allele: String\n",
      "             }],\n",
      "             seq_region_name: String,\n",
      "             start: Int,\n",
      "             strand: Int,\n",
      "             transcript_consequences: Array[Struct{\n",
      "                 allele_num: Int,\n",
      "                 amino_acids: String,\n",
      "                 biotype: String,\n",
      "                 canonical: Int,\n",
      "                 ccds: String,\n",
      "                 cdna_start: Int,\n",
      "                 cdna_end: Int,\n",
      "                 cds_end: Int,\n",
      "                 cds_start: Int,\n",
      "                 codons: String,\n",
      "                 consequence_terms: Array[String],\n",
      "                 distance: Int,\n",
      "                 domains: Array[Struct{\n",
      "                     db: String,\n",
      "                     name: String\n",
      "                 }],\n",
      "                 exon: String,\n",
      "                 gene_id: String,\n",
      "                 gene_pheno: Int,\n",
      "                 gene_symbol: String,\n",
      "                 gene_symbol_source: String,\n",
      "                 hgnc_id: Int,\n",
      "                 hgvsc: String,\n",
      "                 hgvsp: String,\n",
      "                 hgvs_offset: Int,\n",
      "                 impact: String,\n",
      "                 intron: String,\n",
      "                 lof: String,\n",
      "                 lof_flags: String,\n",
      "                 lof_filter: String,\n",
      "                 lof_info: String,\n",
      "                 minimised: Int,\n",
      "                 polyphen_prediction: String,\n",
      "                 polyphen_score: Double,\n",
      "                 protein_end: Int,\n",
      "                 protein_start: Int,\n",
      "                 protein_id: String,\n",
      "                 sift_prediction: String,\n",
      "                 sift_score: Double,\n",
      "                 strand: Int,\n",
      "                 swissprot: String,\n",
      "                 transcript_id: String,\n",
      "                 trembl: String,\n",
      "                 uniparc: String,\n",
      "                 variant_allele: String\n",
      "             }],\n",
      "             variant_class: String\n",
      "         }\n",
      "     }\n",
      " }\n"
     ]
    }
   ],
   "source": [
    "#look at the structure of the table using \"schema\"\n",
    "pprint(vtable.schema)"
   ]
  },
  {
   "cell_type": "code",
   "execution_count": 14,
   "metadata": {},
   "outputs": [],
   "source": [
    "#split multi-allelic variants\n",
    "vds = vds.split_multi()"
   ]
  },
  {
   "cell_type": "code",
   "execution_count": null,
   "metadata": {},
   "outputs": [],
   "source": [
    "#map the variants to their alternate allele, filter to SNPs, and count by unique ref/alt pair\n",
    "snp_counts = vds.query_variants('variants.map(v => v.altAllele()).filter(aa => aa.isSNP()).counter()')\n",
    "pprint(Counter(snp_counts).most_common())"
   ]
  },
  {
   "cell_type": "code",
   "execution_count": 20,
   "metadata": {
    "scrolled": true
   },
   "outputs": [
    {
     "data": {
      "image/png": "[encoded data removed]",
      "text/plain": [
       "<matplotlib.figure.Figure at 0x2aaafb09add0>"
      ]
     },
     "metadata": {},
     "output_type": "display_data"
    }
   ],
   "source": [
    "#Here we will use the hist aggregator to produce and plot a histogram of DP values for genotypes in our thousand genomes dataset.\n",
    "dp_hist = vds.query_genotypes('gs.map(g => g.dp).hist(0, 30, 30)')\n",
    "plt.xlim(0, 31)\n",
    "plt.bar(dp_hist.binEdges[1:], dp_hist.binFrequencies)\n",
    "plt.show()"
   ]
  },
  {
   "cell_type": "code",
   "execution_count": 21,
   "metadata": {},
   "outputs": [
    {
     "name": "stdout",
     "output_type": "stream",
     "text": [
      "Struct{\n",
      "     Population: String,\n",
      "     SuperPopulation: String,\n",
      "     isFemale: Boolean,\n",
      "     PurpleHair: Boolean,\n",
      "     CaffeineConsumption: Int\n",
      " }\n"
     ]
    }
   ],
   "source": [
    "#QC is entirely based on the ability to understand the properties of a dataset. \n",
    "#Hail attempts to make this easier by providing the sample_qc method, which produces a set of \n",
    "#useful metrics as sample annotations.\n",
    "pprint(vds.sample_schema)"
   ]
  },
  {
   "cell_type": "code",
   "execution_count": 22,
   "metadata": {},
   "outputs": [],
   "source": [
    "vds = vds.sample_qc()"
   ]
  },
  {
   "cell_type": "code",
   "execution_count": 23,
   "metadata": {},
   "outputs": [
    {
     "name": "stdout",
     "output_type": "stream",
     "text": [
      "Struct{\n",
      "     Population: String,\n",
      "     SuperPopulation: String,\n",
      "     isFemale: Boolean,\n",
      "     PurpleHair: Boolean,\n",
      "     CaffeineConsumption: Int,\n",
      "     qc: Struct{\n",
      "         callRate: Double,\n",
      "         nCalled: Int,\n",
      "         nNotCalled: Int,\n",
      "         nHomRef: Int,\n",
      "         nHet: Int,\n",
      "         nHomVar: Int,\n",
      "         nSNP: Int,\n",
      "         nInsertion: Int,\n",
      "         nDeletion: Int,\n",
      "         nSingleton: Int,\n",
      "         nTransition: Int,\n",
      "         nTransversion: Int,\n",
      "         dpMean: Double,\n",
      "         dpStDev: Double,\n",
      "         gqMean: Double,\n",
      "         gqStDev: Double,\n",
      "         nNonRef: Int,\n",
      "         rTiTv: Double,\n",
      "         rHetHomVar: Double,\n",
      "         rInsertionDeletion: Double\n",
      "     }\n",
      " }\n"
     ]
    }
   ],
   "source": [
    "pprint(vds.sample_schema)"
   ]
  },
  {
   "cell_type": "code",
   "execution_count": 24,
   "metadata": {},
   "outputs": [],
   "source": [
    "#We can pull out these new metrics to a Pandas dataframe with one line of code:\n",
    "df = vds.samples_table().to_pandas()"
   ]
  },
  {
   "cell_type": "code",
   "execution_count": 25,
   "metadata": {},
   "outputs": [
    {
     "data": {
      "text/html": [
       "<div>\n",
       "<style scoped>\n",
       "    .dataframe tbody tr th:only-of-type {\n",
       "        vertical-align: middle;\n",
       "    }\n",
       "\n",
       "    .dataframe tbody tr th {\n",
       "        vertical-align: top;\n",
       "    }\n",
       "\n",
       "    .dataframe thead th {\n",
       "        text-align: right;\n",
       "    }\n",
       "</style>\n",
       "<table border=\"1\" class=\"dataframe\">\n",
       "  <thead>\n",
       "    <tr style=\"text-align: right;\">\n",
       "      <th></th>\n",
       "      <th>s</th>\n",
       "      <th>sa.Population</th>\n",
       "      <th>sa.SuperPopulation</th>\n",
       "      <th>sa.isFemale</th>\n",
       "      <th>sa.PurpleHair</th>\n",
       "      <th>sa.CaffeineConsumption</th>\n",
       "      <th>sa.qc.callRate</th>\n",
       "      <th>sa.qc.nCalled</th>\n",
       "      <th>sa.qc.nNotCalled</th>\n",
       "      <th>sa.qc.nHomRef</th>\n",
       "      <th>...</th>\n",
       "      <th>sa.qc.nTransition</th>\n",
       "      <th>sa.qc.nTransversion</th>\n",
       "      <th>sa.qc.dpMean</th>\n",
       "      <th>sa.qc.dpStDev</th>\n",
       "      <th>sa.qc.gqMean</th>\n",
       "      <th>sa.qc.gqStDev</th>\n",
       "      <th>sa.qc.nNonRef</th>\n",
       "      <th>sa.qc.rTiTv</th>\n",
       "      <th>sa.qc.rHetHomVar</th>\n",
       "      <th>sa.qc.rInsertionDeletion</th>\n",
       "    </tr>\n",
       "  </thead>\n",
       "  <tbody>\n",
       "    <tr>\n",
       "      <th>0</th>\n",
       "      <td>HG00096</td>\n",
       "      <td>GBR</td>\n",
       "      <td>EUR</td>\n",
       "      <td>False</td>\n",
       "      <td>False</td>\n",
       "      <td>6</td>\n",
       "      <td>0.979017</td>\n",
       "      <td>10731</td>\n",
       "      <td>230</td>\n",
       "      <td>6321</td>\n",
       "      <td>...</td>\n",
       "      <td>5233</td>\n",
       "      <td>1190</td>\n",
       "      <td>4.566828</td>\n",
       "      <td>2.343927</td>\n",
       "      <td>22.506570</td>\n",
       "      <td>22.531111</td>\n",
       "      <td>4410</td>\n",
       "      <td>4.397479</td>\n",
       "      <td>1.190760</td>\n",
       "      <td>None</td>\n",
       "    </tr>\n",
       "    <tr>\n",
       "      <th>1</th>\n",
       "      <td>HG00097</td>\n",
       "      <td>GBR</td>\n",
       "      <td>EUR</td>\n",
       "      <td>True</td>\n",
       "      <td>True</td>\n",
       "      <td>6</td>\n",
       "      <td>0.993705</td>\n",
       "      <td>10892</td>\n",
       "      <td>69</td>\n",
       "      <td>6152</td>\n",
       "      <td>...</td>\n",
       "      <td>5279</td>\n",
       "      <td>1251</td>\n",
       "      <td>9.440750</td>\n",
       "      <td>3.653101</td>\n",
       "      <td>42.334833</td>\n",
       "      <td>28.494689</td>\n",
       "      <td>4740</td>\n",
       "      <td>4.219824</td>\n",
       "      <td>1.648045</td>\n",
       "      <td>None</td>\n",
       "    </tr>\n",
       "    <tr>\n",
       "      <th>2</th>\n",
       "      <td>HG00099</td>\n",
       "      <td>GBR</td>\n",
       "      <td>EUR</td>\n",
       "      <td>True</td>\n",
       "      <td>False</td>\n",
       "      <td>6</td>\n",
       "      <td>0.988687</td>\n",
       "      <td>10837</td>\n",
       "      <td>124</td>\n",
       "      <td>6113</td>\n",
       "      <td>...</td>\n",
       "      <td>5377</td>\n",
       "      <td>1229</td>\n",
       "      <td>8.240004</td>\n",
       "      <td>3.720313</td>\n",
       "      <td>37.523761</td>\n",
       "      <td>28.130359</td>\n",
       "      <td>4724</td>\n",
       "      <td>4.375102</td>\n",
       "      <td>1.510096</td>\n",
       "      <td>None</td>\n",
       "    </tr>\n",
       "    <tr>\n",
       "      <th>3</th>\n",
       "      <td>HG00100</td>\n",
       "      <td>GBR</td>\n",
       "      <td>EUR</td>\n",
       "      <td>True</td>\n",
       "      <td>False</td>\n",
       "      <td>6</td>\n",
       "      <td>0.999909</td>\n",
       "      <td>10960</td>\n",
       "      <td>1</td>\n",
       "      <td>6088</td>\n",
       "      <td>...</td>\n",
       "      <td>5400</td>\n",
       "      <td>1238</td>\n",
       "      <td>12.756478</td>\n",
       "      <td>3.912233</td>\n",
       "      <td>52.740967</td>\n",
       "      <td>27.669909</td>\n",
       "      <td>4872</td>\n",
       "      <td>4.361874</td>\n",
       "      <td>1.758777</td>\n",
       "      <td>None</td>\n",
       "    </tr>\n",
       "    <tr>\n",
       "      <th>4</th>\n",
       "      <td>HG00101</td>\n",
       "      <td>GBR</td>\n",
       "      <td>EUR</td>\n",
       "      <td>False</td>\n",
       "      <td>True</td>\n",
       "      <td>8</td>\n",
       "      <td>0.995347</td>\n",
       "      <td>10910</td>\n",
       "      <td>51</td>\n",
       "      <td>6229</td>\n",
       "      <td>...</td>\n",
       "      <td>5358</td>\n",
       "      <td>1212</td>\n",
       "      <td>6.573118</td>\n",
       "      <td>2.887462</td>\n",
       "      <td>30.568286</td>\n",
       "      <td>25.611360</td>\n",
       "      <td>4681</td>\n",
       "      <td>4.420792</td>\n",
       "      <td>1.478031</td>\n",
       "      <td>None</td>\n",
       "    </tr>\n",
       "  </tbody>\n",
       "</table>\n",
       "<p>5 rows × 26 columns</p>\n",
       "</div>"
      ],
      "text/plain": [
       "         s sa.Population sa.SuperPopulation  sa.isFemale  sa.PurpleHair  \\\n",
       "0  HG00096           GBR                EUR        False          False   \n",
       "1  HG00097           GBR                EUR         True           True   \n",
       "2  HG00099           GBR                EUR         True          False   \n",
       "3  HG00100           GBR                EUR         True          False   \n",
       "4  HG00101           GBR                EUR        False           True   \n",
       "\n",
       "   sa.CaffeineConsumption  sa.qc.callRate  sa.qc.nCalled  sa.qc.nNotCalled  \\\n",
       "0                       6        0.979017          10731               230   \n",
       "1                       6        0.993705          10892                69   \n",
       "2                       6        0.988687          10837               124   \n",
       "3                       6        0.999909          10960                 1   \n",
       "4                       8        0.995347          10910                51   \n",
       "\n",
       "   sa.qc.nHomRef            ...             sa.qc.nTransition  \\\n",
       "0           6321            ...                          5233   \n",
       "1           6152            ...                          5279   \n",
       "2           6113            ...                          5377   \n",
       "3           6088            ...                          5400   \n",
       "4           6229            ...                          5358   \n",
       "\n",
       "   sa.qc.nTransversion  sa.qc.dpMean  sa.qc.dpStDev  sa.qc.gqMean  \\\n",
       "0                 1190      4.566828       2.343927     22.506570   \n",
       "1                 1251      9.440750       3.653101     42.334833   \n",
       "2                 1229      8.240004       3.720313     37.523761   \n",
       "3                 1238     12.756478       3.912233     52.740967   \n",
       "4                 1212      6.573118       2.887462     30.568286   \n",
       "\n",
       "   sa.qc.gqStDev  sa.qc.nNonRef  sa.qc.rTiTv  sa.qc.rHetHomVar  \\\n",
       "0      22.531111           4410     4.397479          1.190760   \n",
       "1      28.494689           4740     4.219824          1.648045   \n",
       "2      28.130359           4724     4.375102          1.510096   \n",
       "3      27.669909           4872     4.361874          1.758777   \n",
       "4      25.611360           4681     4.420792          1.478031   \n",
       "\n",
       "   sa.qc.rInsertionDeletion  \n",
       "0                      None  \n",
       "1                      None  \n",
       "2                      None  \n",
       "3                      None  \n",
       "4                      None  \n",
       "\n",
       "[5 rows x 26 columns]"
      ]
     },
     "execution_count": 25,
     "metadata": {},
     "output_type": "execute_result"
    }
   ],
   "source": [
    "#Peek at the data\n",
    "df.head()\n"
   ]
  },
  {
   "cell_type": "code",
   "execution_count": 26,
   "metadata": {},
   "outputs": [
    {
     "data": {
      "image/png": "[encoded data removed]",
      "text/plain": [
       "<matplotlib.figure.Figure at 0x2aab0f0c3710>"
      ]
     },
     "metadata": {},
     "output_type": "display_data"
    }
   ],
   "source": [
    "#Plot QC metrics\n",
    "plt.clf()\n",
    "plt.subplot(1, 2, 1)\n",
    "plt.hist(df[\"sa.qc.callRate\"], bins=np.arange(.75, 1.01, .01))\n",
    "plt.xlabel(\"Call Rate\")\n",
    "plt.ylabel(\"Frequency\")\n",
    "plt.xlim(.75, 1)\n",
    "\n",
    "plt.subplot(1, 2, 2)\n",
    "plt.hist(df[\"sa.qc.gqMean\"], bins = np.arange(0, 105, 5))\n",
    "plt.xlabel(\"Mean Sample GQ\")\n",
    "plt.ylabel(\"Frequency\")\n",
    "plt.xlim(0, 105)\n",
    "\n",
    "plt.tight_layout()\n",
    "plt.show()"
   ]
  },
  {
   "cell_type": "code",
   "execution_count": 27,
   "metadata": {},
   "outputs": [
    {
     "data": {
      "image/png": "[encoded data removed]",
      "text/plain": [
       "<matplotlib.figure.Figure at 0x2aab0ede7f50>"
      ]
     },
     "metadata": {},
     "output_type": "display_data"
    }
   ],
   "source": [
    "#these metrics are correlated: call rate and mean DP\n",
    "plt.scatter(df[\"sa.qc.dpMean\"], df[\"sa.qc.callRate\"],\n",
    "            alpha=0.1)\n",
    "plt.xlabel('Mean DP')\n",
    "plt.ylabel('Call Rate')\n",
    "plt.xlim(0, 20)\n",
    "plt.show()"
   ]
  },
  {
   "cell_type": "code",
   "execution_count": 28,
   "metadata": {},
   "outputs": [
    {
     "data": {
      "image/png": "[encoded data removed]",
      "text/plain": [
       "<matplotlib.figure.Figure at 0x2aab0ede78d0>"
      ]
     },
     "metadata": {},
     "output_type": "display_data"
    }
   ],
   "source": [
    "#Removing outliers from the dataset will generally improve association results. \n",
    "#We can draw lines on the above plot to indicate outlier cuts. \n",
    "#We’ll want to remove all samples that fall in the bottom left quadrant.\n",
    "plt.scatter(df[\"sa.qc.dpMean\"], df[\"sa.qc.callRate\"],\n",
    "            alpha=0.1)\n",
    "plt.xlabel('Mean DP')\n",
    "plt.ylabel('Call Rate')\n",
    "plt.xlim(0, 20)\n",
    "plt.axhline(0.97, c='k')\n",
    "plt.axvline(4, c='k')\n",
    "plt.show()"
   ]
  },
  {
   "cell_type": "code",
   "execution_count": 29,
   "metadata": {},
   "outputs": [
    {
     "name": "stdout",
     "output_type": "stream",
     "text": [
      "After filter, 843/1000 samples remain.\n"
     ]
    }
   ],
   "source": [
    "#Filtering is simpler when use these cutoff values:\n",
    "vds = vds.filter_samples_expr('sa.qc.dpMean >= 4 && sa.qc.callRate >= 0.97')\n",
    "print('After filter, %d/1000 samples remain.' % vds.num_samples)"
   ]
  },
  {
   "cell_type": "code",
   "execution_count": null,
   "metadata": {},
   "outputs": [],
   "source": [
    "#Next is genotype QC. To start, we’ll print the post-sample-QC call rate. It’s \n",
    "#increased since the initial summary - dropping low-quality samples disproportionally removed missing genotypes.\n",
    "call_rate = vds.query_genotypes('gs.fraction(g => g.isCalled)')\n",
    "print('pre QC call rate is %.3f' % call_rate)"
   ]
  },
  {
   "cell_type": "code",
   "execution_count": 31,
   "metadata": {},
   "outputs": [],
   "source": [
    "#It’s a good idea to filter out genotypes where the reads aren’t where they should be: if we find \n",
    "#a genotype called homozygous reference with >10% alternate reads, a genotype called \n",
    "#homozygous alternate with >10% reference reads, \n",
    "#or a genotype called heterozygote without a ref / alt balance near 1:1, it is likely to be an error.\n",
    "filter_condition_ab = '''let ab = g.ad[1] / g.ad.sum() in\n",
    "                         ((g.isHomRef && ab <= 0.1) ||\n",
    "                          (g.isHet && ab >= 0.25 && ab <= 0.75) ||\n",
    "                          (g.isHomVar && ab >= 0.9))'''\n",
    "vds = vds.filter_genotypes(filter_condition_ab)"
   ]
  },
  {
   "cell_type": "code",
   "execution_count": 32,
   "metadata": {},
   "outputs": [
    {
     "name": "stdout",
     "output_type": "stream",
     "text": [
      "post QC call rate is 0.955\n"
     ]
    }
   ],
   "source": [
    "post_qc_call_rate = vds.query_genotypes('gs.fraction(g => g.isCalled)')\n",
    "print('post QC call rate is %.3f' % post_qc_call_rate)"
   ]
  },
  {
   "cell_type": "code",
   "execution_count": 33,
   "metadata": {
    "scrolled": true
   },
   "outputs": [
    {
     "name": "stdout",
     "output_type": "stream",
     "text": [
      "Struct{\n",
      "     rsid: String,\n",
      "     qual: Double,\n",
      "     filters: Set[String],\n",
      "     pass: Boolean,\n",
      "     info: Struct{\n",
      "         AC: Array[Int],\n",
      "         AF: Array[Double],\n",
      "         AN: Int,\n",
      "         BaseQRankSum: Double,\n",
      "         ClippingRankSum: Double,\n",
      "         DP: Int,\n",
      "         DS: Boolean,\n",
      "         FS: Double,\n",
      "         HaplotypeScore: Double,\n",
      "         InbreedingCoeff: Double,\n",
      "         MLEAC: Array[Int],\n",
      "         MLEAF: Array[Double],\n",
      "         MQ: Double,\n",
      "         MQ0: Int,\n",
      "         MQRankSum: Double,\n",
      "         QD: Double,\n",
      "         ReadPosRankSum: Double,\n",
      "         set: String\n",
      "     }\n",
      " }\n"
     ]
    }
   ],
   "source": [
    "#Variant QC is a bit more of the same: we can use the \n",
    "#variant_qc method to produce a variety of useful statistics, plot them, and filter.\n",
    "pprint(vds.variant_schema)"
   ]
  },
  {
   "cell_type": "code",
   "execution_count": 34,
   "metadata": {},
   "outputs": [],
   "source": [
    "#The cache (Hail's version of persist) is used to optimize some of the downstream operations\n",
    "vds = vds.variant_qc().cache()"
   ]
  },
  {
   "cell_type": "code",
   "execution_count": 35,
   "metadata": {},
   "outputs": [
    {
     "name": "stdout",
     "output_type": "stream",
     "text": [
      "Struct{\n",
      "     rsid: String,\n",
      "     qual: Double,\n",
      "     filters: Set[String],\n",
      "     pass: Boolean,\n",
      "     info: Struct{\n",
      "         AC: Array[Int],\n",
      "         AF: Array[Double],\n",
      "         AN: Int,\n",
      "         BaseQRankSum: Double,\n",
      "         ClippingRankSum: Double,\n",
      "         DP: Int,\n",
      "         DS: Boolean,\n",
      "         FS: Double,\n",
      "         HaplotypeScore: Double,\n",
      "         InbreedingCoeff: Double,\n",
      "         MLEAC: Array[Int],\n",
      "         MLEAF: Array[Double],\n",
      "         MQ: Double,\n",
      "         MQ0: Int,\n",
      "         MQRankSum: Double,\n",
      "         QD: Double,\n",
      "         ReadPosRankSum: Double,\n",
      "         set: String\n",
      "     },\n",
      "     qc: Struct{\n",
      "         callRate: Double,\n",
      "         AC: Int,\n",
      "         AF: Double,\n",
      "         nCalled: Int,\n",
      "         nNotCalled: Int,\n",
      "         nHomRef: Int,\n",
      "         nHet: Int,\n",
      "         nHomVar: Int,\n",
      "         dpMean: Double,\n",
      "         dpStDev: Double,\n",
      "         gqMean: Double,\n",
      "         gqStDev: Double,\n",
      "         nNonRef: Int,\n",
      "         rHeterozygosity: Double,\n",
      "         rHetHomVar: Double,\n",
      "         rExpectedHetFrequency: Double,\n",
      "         pHWE: Double\n",
      "     }\n",
      " }\n"
     ]
    }
   ],
   "source": [
    "pprint(vds.variant_schema)"
   ]
  },
  {
   "cell_type": "code",
   "execution_count": 36,
   "metadata": {},
   "outputs": [
    {
     "data": {
      "image/png": "[encoded data removed]",
      "text/plain": [
       "<matplotlib.figure.Figure at 0x2aaafb46fdd0>"
      ]
     },
     "metadata": {},
     "output_type": "display_data"
    }
   ],
   "source": [
    "variant_df = vds.variants_table().to_pandas()\n",
    "\n",
    "plt.clf()\n",
    "plt.subplot(2, 2, 1)\n",
    "variantgq_means = variant_df[\"va.qc.gqMean\"]\n",
    "plt.hist(variantgq_means, bins = np.arange(0, 84, 2))\n",
    "plt.xlabel(\"Variant Mean GQ\")\n",
    "plt.ylabel(\"Frequency\")\n",
    "plt.xlim(0, 80)\n",
    "\n",
    "plt.subplot(2, 2, 2)\n",
    "variant_mleaf = variant_df[\"va.qc.AF\"]\n",
    "plt.hist(variant_mleaf, bins = np.arange(0, 1.05, .025))\n",
    "plt.xlabel(\"Minor Allele Frequency\")\n",
    "plt.ylabel(\"Frequency\")\n",
    "plt.xlim(0, 1)\n",
    "\n",
    "plt.subplot(2, 2, 3)\n",
    "plt.hist(variant_df['va.qc.callRate'], bins = np.arange(0, 1.05, .01))\n",
    "plt.xlabel(\"Variant Call Rate\")\n",
    "plt.ylabel(\"Frequency\")\n",
    "plt.xlim(.5, 1)\n",
    "\n",
    "plt.subplot(2, 2, 4)\n",
    "plt.hist(variant_df['va.qc.pHWE'], bins = np.arange(0, 1.05, .025))\n",
    "plt.xlabel(\"Hardy-Weinberg Equilibrium p-value\")\n",
    "plt.ylabel(\"Frequency\")\n",
    "plt.xlim(0, 1)\n",
    "\n",
    "plt.tight_layout()\n",
    "plt.show()"
   ]
  },
  {
   "cell_type": "code",
   "execution_count": 37,
   "metadata": {},
   "outputs": [
    {
     "name": "stderr",
     "output_type": "stream",
     "text": [
      "2017-12-20 11:18:40 Hail: INFO: Running LD prune with nSamples=843, nVariants=9085, nPartitions=4, and maxQueueSize=257123.\n",
      "2017-12-20 11:18:40 Hail: INFO: LD prune step 1 of 3: nVariantsKept=8478, nPartitions=4, time=378.749ms\n",
      "2017-12-20 11:18:41 Hail: INFO: LD prune step 2 of 3: nVariantsKept=8478, nPartitions=12, time=1.160s\n",
      "2017-12-20 11:18:41 Hail: INFO: Coerced sorted dataset\n",
      "2017-12-20 11:18:42 Hail: INFO: LD prune step 3 of 3: nVariantsKept=8478, time=429.164ms\n"
     ]
    }
   ],
   "source": [
    "#Let’s do a GWAS!\n",
    "#First, we need to restrict to variants that are:\n",
    "\n",
    "# 1) common (we’ll use a cutoff of 1%)\n",
    "# 2) uncorrelated (not in linkage disequilibrium)\n",
    "\n",
    "common_vds = (vds\n",
    "              .filter_variants_expr('va.qc.AF > 0.01')\n",
    "              .ld_prune(memory_per_core=256, num_cores=4))"
   ]
  },
  {
   "cell_type": "code",
   "execution_count": 38,
   "metadata": {},
   "outputs": [
    {
     "data": {
      "text/plain": [
       "(843L, 8555L)"
      ]
     },
     "execution_count": 38,
     "metadata": {},
     "output_type": "execute_result"
    }
   ],
   "source": [
    "common_vds.count()"
   ]
  },
  {
   "cell_type": "code",
   "execution_count": 39,
   "metadata": {},
   "outputs": [
    {
     "name": "stderr",
     "output_type": "stream",
     "text": [
      "2017-12-20 11:18:42 Hail: INFO: Running linear regression on 843 samples with 1 covariate including intercept...\n"
     ]
    },
    {
     "name": "stdout",
     "output_type": "stream",
     "text": [
      "Struct{\n",
      "     rsid: String,\n",
      "     qual: Double,\n",
      "     filters: Set[String],\n",
      "     pass: Boolean,\n",
      "     info: Struct{\n",
      "         AC: Array[Int],\n",
      "         AF: Array[Double],\n",
      "         AN: Int,\n",
      "         BaseQRankSum: Double,\n",
      "         ClippingRankSum: Double,\n",
      "         DP: Int,\n",
      "         DS: Boolean,\n",
      "         FS: Double,\n",
      "         HaplotypeScore: Double,\n",
      "         InbreedingCoeff: Double,\n",
      "         MLEAC: Array[Int],\n",
      "         MLEAF: Array[Double],\n",
      "         MQ: Double,\n",
      "         MQ0: Int,\n",
      "         MQRankSum: Double,\n",
      "         QD: Double,\n",
      "         ReadPosRankSum: Double,\n",
      "         set: String\n",
      "     },\n",
      "     qc: Struct{\n",
      "         callRate: Double,\n",
      "         AC: Int,\n",
      "         AF: Double,\n",
      "         nCalled: Int,\n",
      "         nNotCalled: Int,\n",
      "         nHomRef: Int,\n",
      "         nHet: Int,\n",
      "         nHomVar: Int,\n",
      "         dpMean: Double,\n",
      "         dpStDev: Double,\n",
      "         gqMean: Double,\n",
      "         gqStDev: Double,\n",
      "         nNonRef: Int,\n",
      "         rHeterozygosity: Double,\n",
      "         rHetHomVar: Double,\n",
      "         rExpectedHetFrequency: Double,\n",
      "         pHWE: Double\n",
      "     },\n",
      "     linreg: Struct{\n",
      "         beta: Double,\n",
      "         se: Double,\n",
      "         tstat: Double,\n",
      "         pval: Double\n",
      "     }\n",
      " }\n"
     ]
    }
   ],
   "source": [
    "#These filters removed about 15% of sites (we started with a bit over 10,000). \n",
    "#This is NOT representative of most sequencing datasets! \n",
    "#We have already downsampled the full thousand genomes dataset to \n",
    "#include more common variants than we’d expect by chance.\n",
    "#In Hail, the association tests accept sample annotations for the sample phenotype and covariates. \n",
    "#Since we’ve already got our phenotype of interest (caffeine consumption) in the dataset, we are good to go:\n",
    "gwas = common_vds.linreg('sa.CaffeineConsumption')\n",
    "pprint(gwas.variant_schema)"
   ]
  },
  {
   "cell_type": "code",
   "execution_count": 40,
   "metadata": {},
   "outputs": [],
   "source": [
    "#Looking at the bottom of the above printout, you can see the linear regression adds \n",
    "#new variant annotations for the beta, standard error, t-statistic, and p-value.\n",
    "def qqplot(pvals, xMax, yMax):\n",
    "    spvals = sorted(filter(lambda x: x and not(isnan(x)), pvals))\n",
    "    exp = [-log(float(i) / len(spvals), 10) for i in np.arange(1, len(spvals) + 1, 1)]\n",
    "    obs = [-log(p, 10) for p in spvals]\n",
    "    plt.clf()\n",
    "    plt.scatter(exp, obs)\n",
    "    plt.plot(np.arange(0, max(xMax, yMax)), c=\"red\")\n",
    "    plt.xlabel(\"Expected p-value (-log10 scale)\")\n",
    "    plt.ylabel(\"Observed p-value (-log10 scale)\")\n",
    "    plt.xlim(0, xMax)\n",
    "    plt.ylim(0, yMax)\n",
    "    plt.show()"
   ]
  },
  {
   "cell_type": "code",
   "execution_count": 41,
   "metadata": {},
   "outputs": [
    {
     "data": {
      "image/png": "[encoded data removed]",
      "text/plain": [
       "<matplotlib.figure.Figure at 0x2aab0f19e210>"
      ]
     },
     "metadata": {},
     "output_type": "display_data"
    }
   ],
   "source": [
    "#make a Q-Q (quantile-quantile) plot.\n",
    "qqplot(gwas.query_variants('variants.map(v => va.linreg.pval).collect()'),\n",
    "       5, 6)"
   ]
  },
  {
   "cell_type": "code",
   "execution_count": 42,
   "metadata": {},
   "outputs": [
    {
     "name": "stderr",
     "output_type": "stream",
     "text": [
      "2017-12-20 11:18:47 Hail: INFO: Running PCA with 5 components...\n"
     ]
    }
   ],
   "source": [
    "#The observed p-values drift away from the expectation immediately. \n",
    "#Either every SNP in our dataset is causally linked to caffeine consumption (unlikely), or there’s a confounder.\n",
    "#Sample ancestry was actually used to simulate this phenotype. \n",
    "#This leads to a stratified distribution of the phenotype. \n",
    "#The solution is to include ancestry as a covariate in our regression.\n",
    "#The linreg method can also take sample annotations to use as covariates. \n",
    "#We already annotated our samples with reported ancestry, \n",
    "#but it is good to be skeptical of these labels due to human error. \n",
    "#Genomes don’t have that problem! \n",
    "#Instead of using reported ancestry, \n",
    "#we will use genetic ancestry by including computed principal components in our model.\n",
    "\n",
    "The pca method produces sample PCs in sample annotations, and can also produce variant loadings and global eigenvalues when asked.\n",
    "pca = common_vds.pca('sa.pca', k=5, eigenvalues='global.eigen')"
   ]
  },
  {
   "cell_type": "code",
   "execution_count": 43,
   "metadata": {},
   "outputs": [
    {
     "name": "stdout",
     "output_type": "stream",
     "text": [
      "{u'eigen': {u'PC1': 56.34707905481801,\n",
      "            u'PC2': 37.81090030103982,\n",
      "            u'PC3': 16.91974301822238,\n",
      "            u'PC4': 2.707349935634391,\n",
      "            u'PC5': 2.0851252187821228}}\n"
     ]
    }
   ],
   "source": [
    "pprint(pca.globals)"
   ]
  },
  {
   "cell_type": "code",
   "execution_count": null,
   "metadata": {},
   "outputs": [],
   "source": [
    "pprint(pca.sample_schema)"
   ]
  },
  {
   "cell_type": "code",
   "execution_count": 45,
   "metadata": {},
   "outputs": [
    {
     "data": {
      "image/png": "[encoded data removed]",
      "text/plain": [
       "<matplotlib.figure.Figure at 0x2aab0f234fd0>"
      ]
     },
     "metadata": {},
     "output_type": "display_data"
    }
   ],
   "source": [
    "#Now that we’ve got principal components per sample, we may as well plot them! \n",
    "#Human history exerts a strong effect in genetic datasets. \n",
    "#Even with a 50MB sequencing dataset, we can recover the major human populations.\n",
    "pca_table = pca.samples_table().to_pandas()\n",
    "colors = {'AFR': 'green', 'AMR': 'red', 'EAS': 'black', 'EUR': 'blue', 'SAS': 'cyan'}\n",
    "plt.scatter(pca_table[\"sa.pca.PC1\"], pca_table[\"sa.pca.PC2\"],\n",
    "            c = pca_table[\"sa.SuperPopulation\"].map(colors),\n",
    "            alpha = .5)\n",
    "plt.xlim(-0.6, 0.6)\n",
    "plt.xlabel(\"PC1\")\n",
    "plt.ylabel(\"PC2\")\n",
    "legend_entries = [mpatches.Patch(color=c, label=pheno) for pheno, c in colors.items()]\n",
    "plt.legend(handles=legend_entries, loc=2)\n",
    "plt.show()"
   ]
  },
  {
   "cell_type": "code",
   "execution_count": null,
   "metadata": {},
   "outputs": [],
   "source": [
    "#Now we can rerun our linear regression, controlling for the first few principal components and sample sex.\n",
    "pvals = (common_vds\n",
    "        .annotate_samples_table(pca.samples_table(), expr='sa.pca = table.pca')\n",
    "        .linreg('sa.CaffeineConsumption', covariates=['sa.pca.PC1', 'sa.pca.PC2', 'sa.pca.PC3', 'sa.isFemale'])\n",
    "        .query_variants('variants.map(v => va.linreg.pval).collect()'))"
   ]
  },
  {
   "cell_type": "code",
   "execution_count": 47,
   "metadata": {},
   "outputs": [
    {
     "data": {
      "image/png": "[encoded data removed]",
      "text/plain": [
       "<matplotlib.figure.Figure at 0x2aab0fa3d410>"
      ]
     },
     "metadata": {},
     "output_type": "display_data"
    }
   ],
   "source": [
    "qqplot(pvals, 5, 6)"
   ]
  },
  {
   "cell_type": "code",
   "execution_count": null,
   "metadata": {},
   "outputs": [],
   "source": [
    "pvals = (common_vds\n",
    "        .annotate_samples_table(pca.samples_table(), expr='sa.pca = table.pca')\n",
    "        .linreg('sa.CaffeineConsumption',\n",
    "                covariates=['sa.pca.PC1', 'sa.pca.PC2', 'sa.pca.PC3', 'sa.isFemale'],\n",
    "                use_dosages=True)\n",
    "        .query_variants('variants.map(v => va.linreg.pval).collect()'))"
   ]
  },
  {
   "cell_type": "code",
   "execution_count": 49,
   "metadata": {
    "scrolled": true
   },
   "outputs": [
    {
     "data": {
      "image/png": "[encoded data removed]",
      "text/plain": [
       "<matplotlib.figure.Figure at 0x2aab0f6adc10>"
      ]
     },
     "metadata": {},
     "output_type": "display_data"
    }
   ],
   "source": [
    "qqplot(pvals, 5, 6)"
   ]
  },
  {
   "cell_type": "code",
   "execution_count": 50,
   "metadata": {},
   "outputs": [],
   "source": [
    "#Rare variant analysis\n",
    "#Hail doesn’t yet have rare variant kernel-based methods, but we have linear and logistic burden tests.\n",
    "#But, one can use the expression language to group and count by any arbitrary properties in variant \n",
    "#or sample annotations.\n",
    "\n",
    "\n",
    "kt = (vds.genotypes_table()\n",
    "         .aggregate_by_key(key_expr=['pop = sa.SuperPopulation', 'chromosome = v.contig'],\n",
    "                           agg_expr=['n_het = g.filter(g => g.isHet()).count()']))"
   ]
  },
  {
   "cell_type": "code",
   "execution_count": 51,
   "metadata": {},
   "outputs": [
    {
     "name": "stdout",
     "output_type": "stream",
     "text": [
      "+---+----------+-----+\n",
      "|pop|chromosome|n_het|\n",
      "+---+----------+-----+\n",
      "|EUR|        14|16380|\n",
      "|SAS|        17|  511|\n",
      "|EUR|         5|30717|\n",
      "|AFR|         7|11889|\n",
      "|EAS|         9|23951|\n",
      "|AFR|        21| 3529|\n",
      "|EAS|         X| 7403|\n",
      "|EAS|         1|49375|\n",
      "|EUR|        19|13483|\n",
      "|AMR|        15|18935|\n",
      "|AMR|         7|31527|\n",
      "|EUR|        13|17321|\n",
      "|EUR|        12|26134|\n",
      "|EUR|        15|15807|\n",
      "|EUR|         6|33910|\n",
      "|EAS|        20|17466|\n",
      "|SAS|        11|  901|\n",
      "|AFR|         3|15829|\n",
      "|EAS|         2|45384|\n",
      "|AMR|        18|18982|\n",
      "+---+----------+-----+\n",
      "only showing top 20 rows\n",
      "\n"
     ]
    }
   ],
   "source": [
    "kt.to_dataframe().show()"
   ]
  },
  {
   "cell_type": "code",
   "execution_count": 52,
   "metadata": {},
   "outputs": [],
   "source": [
    "kt2 = (vds.genotypes_table()\n",
    "          .aggregate_by_key(key_expr=['''maf_bin = if (va.qc.AF < 0.01) \"< 1%\"\n",
    "                                                   else if (va.qc.AF < 0.05) \"1%-5%\"\n",
    "                                                   else \"> 5%\" ''',\n",
    "                                     'purple_hair = sa.PurpleHair'],\n",
    "                           agg_expr=['mean_gq = g.map(g => g.gq).stats().mean',\n",
    "                                     'mean_dp = g.map(g => g.dp).stats().mean']))"
   ]
  },
  {
   "cell_type": "code",
   "execution_count": 53,
   "metadata": {},
   "outputs": [
    {
     "name": "stdout",
     "output_type": "stream",
     "text": [
      "+-------+-----------+------------------+-----------------+\n",
      "|maf_bin|purple_hair|           mean_gq|          mean_dp|\n",
      "+-------+-----------+------------------+-----------------+\n",
      "|   > 5%|       true| 36.09305651197578|7.407450459057423|\n",
      "|   < 1%|       true| 22.68197887434976|7.374254453728496|\n",
      "|   < 1%|      false|22.986128698357074|7.492131714314245|\n",
      "|   > 5%|      false|36.341259980753755|7.533399982371768|\n",
      "|  1%-5%|       true|24.093123033233528|7.269552536649012|\n",
      "|  1%-5%|      false|  24.3519587208908|7.405582424428774|\n",
      "+-------+-----------+------------------+-----------------+\n",
      "\n"
     ]
    }
   ],
   "source": [
    "kt2.to_dataframe().show()"
   ]
  },
  {
   "cell_type": "code",
   "execution_count": null,
   "metadata": {},
   "outputs": [],
   "source": [
    "#stop Hail context\n",
    "hc.stop()"
   ]
  },
  {
   "cell_type": "code",
   "execution_count": null,
   "metadata": {},
   "outputs": [],
   "source": [
    "#stop Spark context\n",
    "sc.stop()"
   ]
  },
  {
   "cell_type": "code",
   "execution_count": 11,
   "metadata": {},
   "outputs": [
    {
     "name": "stdout",
     "output_type": "stream",
     "text": [
      "INFO:sparkhpc.sparkjob:\r\n"
     ]
    }
   ],
   "source": [
    "!sparkcluster stop 0"
   ]
  },
  {
   "cell_type": "code",
   "execution_count": null,
   "metadata": {},
   "outputs": [],
   "source": []
  }
 ],
 "metadata": {
  "kernelspec": {
   "display_name": "Python 2",
   "language": "python",
   "name": "python2"
  },
  "language_info": {
   "codemirror_mode": {
    "name": "ipython",
    "version": 2
   },
   "file_extension": ".py",
   "mimetype": "text/x-python",
   "name": "python",
   "nbconvert_exporter": "python",
   "pygments_lexer": "ipython2",
   "version": "2.7.12"
  }
 },
 "nbformat": 4,
 "nbformat_minor": 2
}
